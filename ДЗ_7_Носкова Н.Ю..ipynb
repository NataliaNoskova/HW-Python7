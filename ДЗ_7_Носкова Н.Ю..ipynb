{
 "cells": [
  {
   "cell_type": "code",
   "execution_count": 26,
   "id": "b3707723",
   "metadata": {},
   "outputs": [],
   "source": [
    "class Employee:\n",
    "    def __init__(self, name, seniority):\n",
    "        self.name = name\n",
    "        self.seniority = seniority\n",
    "        \n",
    "        self.grade = 1\n",
    "    \n",
    "    def grade_up(self):\n",
    "       \n",
    "        self.grade += 1\n",
    "    \n",
    "    def publish_grade(self):\n",
    "     \n",
    "        print(self.name, self.grade)\n",
    "    \n",
    "    def check_if_it_is_time_for_upgrade(self):\n",
    "        pass"
   ]
  },
  {
   "cell_type": "code",
   "execution_count": 27,
   "id": "3394756a",
   "metadata": {},
   "outputs": [],
   "source": [
    "class Designer(Employee):\n",
    "    def __init__(self, name, seniority):\n",
    "        super().__init__(name, seniority)\n",
    "    def check_if_it_is_time_for_upgrade(self):\n",
    "       \n",
    "        self.seniority += 1\n",
    "        \n",
    "        inetnational_award = 2     \n",
    "        \n",
    "        if (self.seniority + 2 * inetnational_award) % 7 == 0:\n",
    "            self.grade_up()  \n",
    "        return self.publish_grade()    "
   ]
  },
  {
   "cell_type": "code",
   "execution_count": 28,
   "id": "14c5fc5d",
   "metadata": {},
   "outputs": [],
   "source": [
    "Masha = Designer('Маша', 0)"
   ]
  },
  {
   "cell_type": "code",
   "execution_count": 31,
   "id": "a460b6f5",
   "metadata": {},
   "outputs": [
    {
     "name": "stdout",
     "output_type": "stream",
     "text": [
      "Маша 4\n",
      "Маша 4\n",
      "Маша 4\n",
      "Маша 5\n",
      "Маша 5\n",
      "Маша 5\n",
      "Маша 5\n",
      "Маша 5\n",
      "Маша 5\n",
      "Маша 5\n"
     ]
    }
   ],
   "source": [
    "for i in range(10):\n",
    "    Masha.check_if_it_is_time_for_upgrade()"
   ]
  },
  {
   "cell_type": "code",
   "execution_count": 32,
   "id": "49229e02",
   "metadata": {},
   "outputs": [],
   "source": [
    "class Rate:\n",
    "    def __init__(self, format_='value', check='True'):\n",
    "        self.format = format_\n",
    "        self.check = check\n",
    "    \n",
    "    def exchange_rates(self):\n",
    "        r = requests.get('https://www.cbr-xml-daily.ru/daily_json.js')\n",
    "        return r.json()['Valute']\n",
    "    \n",
    "    def diff(self, check):\n",
    "        self.check=check\n",
    "    \n",
    "    def make_format(self, currency):\n",
    "        response = self.exchange_rates()\n",
    "        if currency in response:\n",
    "            if self.format == 'full':\n",
    "                return response[currency]\n",
    "            \n",
    "            if self.format == 'value':\n",
    "                if self.check=='True':\n",
    "                    difference=response[currency]['Previous']-response[currency]['Value']\n",
    "                    return difference\n",
    "                else:    \n",
    "                    return response[currency]['Value']\n",
    "        \n",
    "            return 'Error'\n",
    "    \n",
    "    def eur(self):\n",
    "      \n",
    "        return self.make_format('EUR')\n",
    "    \n",
    "    def usd(self):\n",
    "       \n",
    "        return self.make_format('USD')\n",
    "    \n",
    "    def cny(self):\n",
    "        \n",
    "        return self.make_format('CNY')\n",
    "\n",
    "            "
   ]
  },
  {
   "cell_type": "code",
   "execution_count": 33,
   "id": "99b533b3",
   "metadata": {},
   "outputs": [
    {
     "data": {
      "text/plain": [
       "10.4331"
      ]
     },
     "execution_count": 33,
     "metadata": {},
     "output_type": "execute_result"
    }
   ],
   "source": [
    "Rate('value', 'False').cny()"
   ]
  },
  {
   "cell_type": "code",
   "execution_count": 34,
   "id": "ec9e1fb3",
   "metadata": {},
   "outputs": [],
   "source": [
    "import requests"
   ]
  },
  {
   "cell_type": "code",
   "execution_count": 35,
   "id": "9e42d2dd",
   "metadata": {},
   "outputs": [],
   "source": [
    "class Rate:\n",
    "    def __init__(self, format_='value'):\n",
    "        self.format = format_\n",
    "    \n",
    "    def exchange_rates(self):\n",
    "       \n",
    "        r = requests.get('https://www.cbr-xml-daily.ru/daily_json.js')\n",
    "        return r.json()['Valute']\n",
    "    \n",
    "    def make_format(self, currency):\n",
    "     \n",
    "        response = self.exchange_rates()\n",
    "        \n",
    "        if currency in response:\n",
    "            if self.format == 'full':\n",
    "                return response[currency]\n",
    "            \n",
    "            if self.format == 'value':\n",
    "                return response[currency]['Value']\n",
    "        \n",
    "        return 'Error'\n",
    "    \n",
    "    def eur(self):\n",
    "        \n",
    "        return self.make_format('EUR')\n",
    "    \n",
    "    def usd(self):\n",
    "        \n",
    "        return self.make_format('USD')\n",
    "    \n",
    "    def cny(self):\n",
    "        \n",
    "        return self.make_format('CNY')\n",
    "    \n",
    "    def max_cource(self):\n",
    "        response = self.exchange_rates()\n",
    "        max_course=0\n",
    "        for row in response.values():\n",
    "            value=row['Value']\n",
    "            if max_course<=value:\n",
    "                max_course=value\n",
    "                name=row['Name']\n",
    "        print(row['Name'], max_course)\n",
    "        \n",
    "        "
   ]
  },
  {
   "cell_type": "code",
   "execution_count": 36,
   "id": "f3023d0e",
   "metadata": {},
   "outputs": [
    {
     "name": "stdout",
     "output_type": "stream",
     "text": [
      "Японских иен 95.1156\n"
     ]
    }
   ],
   "source": [
    "Rate().max_cource()"
   ]
  }
 ],
 "metadata": {
  "kernelspec": {
   "display_name": "Python 3 (ipykernel)",
   "language": "python",
   "name": "python3"
  },
  "language_info": {
   "codemirror_mode": {
    "name": "ipython",
    "version": 3
   },
   "file_extension": ".py",
   "mimetype": "text/x-python",
   "name": "python",
   "nbconvert_exporter": "python",
   "pygments_lexer": "ipython3",
   "version": "3.9.13"
  }
 },
 "nbformat": 4,
 "nbformat_minor": 5
}
